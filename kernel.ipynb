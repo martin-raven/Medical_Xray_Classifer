{
  "cells": [
    {
      "metadata": {
        "_uuid": "8f2839f25d086af736a60e9eeb907d3b93b6e0e5",
        "_cell_guid": "b1076dfc-b9ad-4769-8c92-a6c4dae69d19",
        "trusted": true,
        "collapsed": true
      },
      "cell_type": "code",
      "source": "# organize imports\nfrom __future__ import print_function\n\nfrom sklearn.metrics import classification_report\nfrom sklearn.model_selection import train_test_split\nfrom sklearn.linear_model import SGDClassifier\nfrom sklearn.metrics import confusion_matrix\nimport numpy as np\nimport h5py\nimport os\nimport gc\nimport json\nimport pickle\nimport seaborn as sns\nimport matplotlib.pyplot as plt",
      "execution_count": 2,
      "outputs": []
    },
    {
      "metadata": {
        "_cell_guid": "79c7e3d0-c299-4dcb-8224-4455121ee9b0",
        "collapsed": true,
        "_uuid": "d629ff2d2480ee46fbb7e2d37f6b5fab8052498a",
        "trusted": true
      },
      "cell_type": "code",
      "source": "config={\n  \"model\"           : \"inceptionv3\",\n  \"weights\"         : \"imagenet\",\n  \"include_top\"     : False,\n  \"features_path\"   : \"../input/output/IOdev/inceptionv3/features.h5\",\n  \"labels_path\"     : \"../input/output/IOdev/inceptionv3/labels.h5\",\n  \"results\"         : \"output/IOdev/inceptionv3/results.txt\",\n  \"classifier_path\" : \"output/IOdev/inceptionv3/classifier.pickle\",\n  \"model_path\"      : \"../input/output/IOdev/inceptionv3/model\",\n\n  \"test_size\"       : 0.15,\n  \"seed\"            : 9,\n  \"num_classes\"     : 14\n}",
      "execution_count": 3,
      "outputs": []
    },
    {
      "metadata": {
        "trusted": true,
        "_uuid": "385e663657556a982897751b7d14c78afe072418",
        "collapsed": true
      },
      "cell_type": "code",
      "source": "# config variables\ntest_size     = config[\"test_size\"]\nseed      = config[\"seed\"]\nfeatures_path   = config[\"features_path\"]\nlabels_path   = config[\"labels_path\"]\nresults     = config[\"results\"]\nclassifier_path = config[\"classifier_path\"]\ntrain_path    = ['Effusion', 'Atelectasis', 'Edema', 'Hernia', 'Mass', 'Nodule', 'Fibrosis', 'Emphysema', 'Cardiomegaly', 'Consolidation', 'Infiltration', 'Pneumonia', 'Pneumothorax', 'Pleural_Thickening']\nnum_classes   = config[\"num_classes\"]\nclassifier_path = config[\"classifier_path\"]",
      "execution_count": 4,
      "outputs": []
    },
    {
      "metadata": {
        "trusted": true,
        "_uuid": "53781602357a6d3a15161defde145dfde0c53f93",
        "collapsed": true
      },
      "cell_type": "code",
      "source": "# import features and labels\nh5f_data  = h5py.File(features_path, 'r')\nh5f_label = h5py.File(labels_path, 'r')\n\nfeatures_string = h5f_data['dataset_1']\nlabels_string   = h5f_label['dataset_1']\n\nfeatures = np.array(features_string)\nlabels   = np.array(labels_string)\n\nh5f_data.close()\nh5f_label.close()",
      "execution_count": 5,
      "outputs": []
    },
    {
      "metadata": {
        "trusted": true,
        "_uuid": "aec7ac7d60782fca7d95c5dc5d60659e7d56f8c4"
      },
      "cell_type": "code",
      "source": "del features_string,labels_string,h5f_data,h5f_label\ngc.collect()\n# verify the shape of features and labels\nprint (\"[INFO] features shape: {}\".format(features.shape))\nprint (\"[INFO] labels shape: {}\".format(labels.shape))\n",
      "execution_count": 6,
      "outputs": [
        {
          "output_type": "stream",
          "text": "[INFO] features shape: (8881, 131072)\n[INFO] labels shape: (8881,)\n",
          "name": "stdout"
        }
      ]
    },
    {
      "metadata": {
        "trusted": true,
        "_uuid": "15b1e3a92770051ecac861bd492e5eb0c5e69c95"
      },
      "cell_type": "code",
      "source": "print (\"[INFO] training started...\")\n# split the training and testing data\n(trainData, testData, trainLabels, testLabels) = train_test_split(np.array(features),\n                                                                  np.array(labels),\n                                                                  test_size=test_size,\n                                                                  random_state=seed)\n\nprint (\"[INFO] splitted train and test data...\")\nprint (\"[INFO] train data  : {}\".format(trainData.shape))\nprint (\"[INFO] test data   : {}\".format(testData.shape))\nprint (\"[INFO] train labels: {}\".format(trainLabels.shape))\nprint (\"[INFO] test labels : {}\".format(testLabels.shape))",
      "execution_count": 7,
      "outputs": [
        {
          "output_type": "stream",
          "text": "[INFO] training started...\n[INFO] splitted train and test data...\n[INFO] train data  : (7548, 131072)\n[INFO] test data   : (1333, 131072)\n[INFO] train labels: (7548,)\n[INFO] test labels : (1333,)\n",
          "name": "stdout"
        }
      ]
    },
    {
      "metadata": {
        "trusted": true,
        "_uuid": "5f5f04e1c4870a1a9d8dcc1e262d8ab9b92d4ff7"
      },
      "cell_type": "code",
      "source": "del features,labels\ngc.collect()",
      "execution_count": 7,
      "outputs": [
        {
          "output_type": "execute_result",
          "execution_count": 7,
          "data": {
            "text/plain": "0"
          },
          "metadata": {}
        }
      ]
    },
    {
      "metadata": {
        "trusted": true,
        "_uuid": "3c6ba88b245c9730bb89ec03f6ec22bf522b223b"
      },
      "cell_type": "code",
      "source": "# use logistic regression as the model\nprint (\"[INFO] creating model...\")\nSGD = SGDClassifier(random_state=seed,verbose=1)\nSGD.fit(trainData, trainLabels)",
      "execution_count": 8,
      "outputs": [
        {
          "output_type": "stream",
          "text": "[INFO] creating model...\n",
          "name": "stdout"
        },
        {
          "output_type": "stream",
          "text": "/opt/conda/lib/python3.6/site-packages/sklearn/linear_model/stochastic_gradient.py:144: FutureWarning: max_iter and tol parameters have been added in SGDClassifier in 0.19. If both are left unset, they default to max_iter=5 and tol=None. If tol is not None, max_iter defaults to max_iter=1000. From 0.21, default max_iter will be 1000, and default tol will be 1e-3.\n  FutureWarning)\n",
          "name": "stderr"
        },
        {
          "output_type": "stream",
          "text": "-- Epoch 1\nNorm: 5657.56, NNZs: 131072, Bias: -12.443821, T: 7548, Avg. loss: 7942.834771\nTotal training time: 2.42 seconds.\n-- Epoch 2\nNorm: 4163.69, NNZs: 131072, Bias: -9.664269, T: 15096, Avg. loss: 1535.563481\nTotal training time: 4.69 seconds.\n-- Epoch 3\nNorm: 3341.00, NNZs: 131072, Bias: -9.368155, T: 22644, Avg. loss: 606.076538\nTotal training time: 6.93 seconds.\n-- Epoch 4\nNorm: 2857.40, NNZs: 131072, Bias: -8.992934, T: 30192, Avg. loss: 276.955454\nTotal training time: 9.16 seconds.\n-- Epoch 5\nNorm: 2510.03, NNZs: 131072, Bias: -8.989158, T: 37740, Avg. loss: 178.519359\nTotal training time: 11.37 seconds.\n-- Epoch 1\nNorm: 5861.85, NNZs: 131072, Bias: -15.092058, T: 7548, Avg. loss: 9677.652677\nTotal training time: 2.28 seconds.\n-- Epoch 2\nNorm: 4393.68, NNZs: 131072, Bias: -14.667809, T: 15096, Avg. loss: 1761.737447\nTotal training time: 4.49 seconds.\n-- Epoch 3\nNorm: 3609.02, NNZs: 131072, Bias: -15.464712, T: 22644, Avg. loss: 740.241987\nTotal training time: 6.68 seconds.\n-- Epoch 4\nNorm: 3083.81, NNZs: 131072, Bias: -15.822721, T: 30192, Avg. loss: 386.380559\nTotal training time: 8.86 seconds.\n-- Epoch 5\nNorm: 2728.08, NNZs: 131072, Bias: -15.791037, T: 37740, Avg. loss: 199.120912\nTotal training time: 11.01 seconds.\n-- Epoch 1\nNorm: 5947.59, NNZs: 131072, Bias: -12.101671, T: 7548, Avg. loss: 10513.898498\nTotal training time: 2.34 seconds.\n-- Epoch 2\nNorm: 4593.49, NNZs: 131072, Bias: -15.135903, T: 15096, Avg. loss: 2068.813814\nTotal training time: 4.59 seconds.\n-- Epoch 3\nNorm: 3794.44, NNZs: 131072, Bias: -16.449429, T: 22644, Avg. loss: 809.543205\nTotal training time: 6.78 seconds.\n-- Epoch 4\nNorm: 3226.57, NNZs: 131072, Bias: -16.709271, T: 30192, Avg. loss: 387.897222\nTotal training time: 8.93 seconds.\n-- Epoch 5\nNorm: 2860.94, NNZs: 131072, Bias: -16.364872, T: 37740, Avg. loss: 240.471781\nTotal training time: 11.05 seconds.\n-- Epoch 1\nNorm: 5816.58, NNZs: 131072, Bias: -15.486104, T: 7548, Avg. loss: 7993.488322\nTotal training time: 2.25 seconds.\n-- Epoch 2\nNorm: 4238.47, NNZs: 131072, Bias: -17.464676, T: 15096, Avg. loss: 1357.951075\nTotal training time: 4.46 seconds.\n-- Epoch 3\nNorm: 3421.48, NNZs: 131072, Bias: -17.445565, T: 22644, Avg. loss: 532.940698\nTotal training time: 6.63 seconds.\n-- Epoch 4\nNorm: 2911.13, NNZs: 131072, Bias: -17.834974, T: 30192, Avg. loss: 280.418960\nTotal training time: 8.78 seconds.\n-- Epoch 5\nNorm: 2529.90, NNZs: 131072, Bias: -18.067240, T: 37740, Avg. loss: 139.761012\nTotal training time: 10.91 seconds.\n-- Epoch 1\nNorm: 5683.02, NNZs: 131072, Bias: -5.484776, T: 7548, Avg. loss: 8812.653356\nTotal training time: 2.31 seconds.\n-- Epoch 2\nNorm: 4326.30, NNZs: 131072, Bias: -4.902938, T: 15096, Avg. loss: 1637.592018\nTotal training time: 4.56 seconds.\n-- Epoch 3\nNorm: 3547.89, NNZs: 131072, Bias: -5.045620, T: 22644, Avg. loss: 749.880651\nTotal training time: 6.76 seconds.\n-- Epoch 4\nNorm: 3030.13, NNZs: 131072, Bias: -5.712381, T: 30192, Avg. loss: 328.843753\nTotal training time: 8.89 seconds.\n-- Epoch 5\nNorm: 2634.06, NNZs: 131072, Bias: -4.865293, T: 37740, Avg. loss: 161.171187\nTotal training time: 10.98 seconds.\n-- Epoch 1\nNorm: 5963.04, NNZs: 131072, Bias: -17.913313, T: 7548, Avg. loss: 8850.212640\nTotal training time: 2.33 seconds.\n-- Epoch 2\nNorm: 4310.19, NNZs: 131072, Bias: -20.413187, T: 15096, Avg. loss: 1583.218288\nTotal training time: 4.57 seconds.\n-- Epoch 3\nNorm: 3604.07, NNZs: 131072, Bias: -21.105065, T: 22644, Avg. loss: 665.400182\nTotal training time: 6.79 seconds.\n-- Epoch 4\nNorm: 3063.23, NNZs: 131072, Bias: -20.309494, T: 30192, Avg. loss: 322.878377\nTotal training time: 8.96 seconds.\n-- Epoch 5\nNorm: 2684.04, NNZs: 131072, Bias: -20.091740, T: 37740, Avg. loss: 166.573452\nTotal training time: 11.11 seconds.\n-- Epoch 1\nNorm: 5907.73, NNZs: 131071, Bias: -52.384216, T: 7548, Avg. loss: 8685.866229\nTotal training time: 2.30 seconds.\n-- Epoch 2\nNorm: 4331.15, NNZs: 131072, Bias: -50.785701, T: 15096, Avg. loss: 1852.641368\nTotal training time: 4.52 seconds.\n-- Epoch 3\nNorm: 3540.24, NNZs: 131072, Bias: -52.307611, T: 22644, Avg. loss: 745.429732\nTotal training time: 6.70 seconds.\n-- Epoch 4\nNorm: 2998.84, NNZs: 131072, Bias: -52.349840, T: 30192, Avg. loss: 355.458210\nTotal training time: 8.85 seconds.\n-- Epoch 5\nNorm: 2664.60, NNZs: 131072, Bias: -52.917924, T: 37740, Avg. loss: 224.841129\nTotal training time: 11.00 seconds.\n-- Epoch 1\nNorm: 3198.24, NNZs: 131060, Bias: -13.023785, T: 7548, Avg. loss: 1808.216445\nTotal training time: 2.15 seconds.\n-- Epoch 2\nNorm: 2315.77, NNZs: 131067, Bias: -12.498553, T: 15096, Avg. loss: 316.620392\nTotal training time: 4.29 seconds.\n-- Epoch 3\nNorm: 1891.59, NNZs: 131070, Bias: -13.551462, T: 22644, Avg. loss: 120.443433\nTotal training time: 6.44 seconds.\n-- Epoch 4\nNorm: 1549.20, NNZs: 131070, Bias: -13.558008, T: 30192, Avg. loss: 37.317650\nTotal training time: 8.58 seconds.\n-- Epoch 5\nNorm: 1297.21, NNZs: 131070, Bias: -13.556083, T: 37740, Avg. loss: 14.225596\nTotal training time: 10.71 seconds.\n-- Epoch 1\nNorm: 5437.28, NNZs: 131072, Bias: 11.479568, T: 7548, Avg. loss: 8406.976161\nTotal training time: 2.35 seconds.\n-- Epoch 2\nNorm: 4130.93, NNZs: 131072, Bias: 10.542848, T: 15096, Avg. loss: 1551.535337\nTotal training time: 4.60 seconds.\n-- Epoch 3\nNorm: 3359.49, NNZs: 131072, Bias: 11.174359, T: 22644, Avg. loss: 568.762623\nTotal training time: 6.79 seconds.\n-- Epoch 4\nNorm: 2863.37, NNZs: 131072, Bias: 10.759884, T: 30192, Avg. loss: 324.244837\nTotal training time: 8.95 seconds.\n-- Epoch 5\nNorm: 2495.54, NNZs: 131072, Bias: 10.791698, T: 37740, Avg. loss: 129.029052\nTotal training time: 11.13 seconds.\n-- Epoch 1\nNorm: 5909.59, NNZs: 131072, Bias: -22.897283, T: 7548, Avg. loss: 9470.228432\nTotal training time: 2.37 seconds.\n-- Epoch 2\nNorm: 4459.98, NNZs: 131072, Bias: -23.006062, T: 15096, Avg. loss: 2106.162765\nTotal training time: 4.67 seconds.\n-- Epoch 3\nNorm: 3683.73, NNZs: 131072, Bias: -22.137988, T: 22644, Avg. loss: 866.811392\nTotal training time: 6.91 seconds.\n-- Epoch 4\nNorm: 3198.90, NNZs: 131072, Bias: -21.523258, T: 30192, Avg. loss: 461.619265\nTotal training time: 9.07 seconds.\n-- Epoch 5\nNorm: 2809.38, NNZs: 131072, Bias: -22.409449, T: 37740, Avg. loss: 207.849669\nTotal training time: 11.20 seconds.\n-- Epoch 1\nNorm: 5646.44, NNZs: 131072, Bias: -25.540278, T: 7548, Avg. loss: 10204.578013\nTotal training time: 2.30 seconds.\n-- Epoch 2\nNorm: 4355.04, NNZs: 131072, Bias: -28.359800, T: 15096, Avg. loss: 2183.211725\nTotal training time: 4.53 seconds.\n-- Epoch 3\nNorm: 3662.14, NNZs: 131072, Bias: -27.387103, T: 22644, Avg. loss: 965.679635\nTotal training time: 6.73 seconds.\n-- Epoch 4\nNorm: 3197.01, NNZs: 131072, Bias: -27.040126, T: 30192, Avg. loss: 525.564094\nTotal training time: 8.93 seconds.\n-- Epoch 5\nNorm: 2808.95, NNZs: 131072, Bias: -27.654042, T: 37740, Avg. loss: 254.717173\nTotal training time: 11.09 seconds.\n-- Epoch 1\nNorm: 5851.10, NNZs: 131072, Bias: -28.126772, T: 7548, Avg. loss: 10449.739548\nTotal training time: 2.33 seconds.\n-- Epoch 2\nNorm: 4446.45, NNZs: 131072, Bias: -26.663827, T: 15096, Avg. loss: 2263.174346\nTotal training time: 4.67 seconds.\n-- Epoch 3\nNorm: 3720.61, NNZs: 131072, Bias: -27.176933, T: 22644, Avg. loss: 923.467087\nTotal training time: 6.96 seconds.\n-- Epoch 4\nNorm: 3199.57, NNZs: 131072, Bias: -27.830045, T: 30192, Avg. loss: 416.044889\nTotal training time: 9.12 seconds.\n-- Epoch 5\nNorm: 2819.38, NNZs: 131072, Bias: -27.408032, T: 37740, Avg. loss: 260.609521\nTotal training time: 11.27 seconds.\n-- Epoch 1\nNorm: 4517.60, NNZs: 131072, Bias: -19.774027, T: 7548, Avg. loss: 5260.725552\nTotal training time: 2.17 seconds.\n-- Epoch 2\nNorm: 3422.20, NNZs: 131072, Bias: -19.231080, T: 15096, Avg. loss: 935.822153\nTotal training time: 4.28 seconds.\n-- Epoch 3\nNorm: 2805.17, NNZs: 131072, Bias: -19.138460, T: 22644, Avg. loss: 338.170187\nTotal training time: 6.39 seconds.\n-- Epoch 4\nNorm: 2394.14, NNZs: 131072, Bias: -19.057825, T: 30192, Avg. loss: 173.319635\nTotal training time: 8.49 seconds.\n-- Epoch 5\nNorm: 2070.68, NNZs: 131072, Bias: -19.073210, T: 37740, Avg. loss: 88.817527\nTotal training time: 10.67 seconds.\n-- Epoch 1\nNorm: 5889.38, NNZs: 131072, Bias: -17.287748, T: 7548, Avg. loss: 9737.810897\nTotal training time: 2.41 seconds.\n-- Epoch 2\n",
          "name": "stdout"
        },
        {
          "output_type": "stream",
          "text": "Norm: 4396.76, NNZs: 131072, Bias: -18.254636, T: 15096, Avg. loss: 1693.768162\nTotal training time: 4.67 seconds.\n-- Epoch 3\nNorm: 3625.88, NNZs: 131072, Bias: -19.313497, T: 22644, Avg. loss: 714.436725\nTotal training time: 6.86 seconds.\n-- Epoch 4\nNorm: 3118.47, NNZs: 131072, Bias: -19.069493, T: 30192, Avg. loss: 373.494992\nTotal training time: 9.01 seconds.\n-- Epoch 5\nNorm: 2701.08, NNZs: 131072, Bias: -19.729956, T: 37740, Avg. loss: 194.958120\nTotal training time: 11.13 seconds.\n",
          "name": "stdout"
        },
        {
          "output_type": "stream",
          "text": "[Parallel(n_jobs=1)]: Done  14 out of  14 | elapsed:  2.6min finished\n",
          "name": "stderr"
        },
        {
          "output_type": "execute_result",
          "execution_count": 8,
          "data": {
            "text/plain": "SGDClassifier(alpha=0.0001, average=False, class_weight=None,\n       early_stopping=False, epsilon=0.1, eta0=0.0, fit_intercept=True,\n       l1_ratio=0.15, learning_rate='optimal', loss='hinge', max_iter=None,\n       n_iter=None, n_iter_no_change=5, n_jobs=1, penalty='l2',\n       power_t=0.5, random_state=9, shuffle=True, tol=None,\n       validation_fraction=0.1, verbose=1, warm_start=False)"
          },
          "metadata": {}
        }
      ]
    },
    {
      "metadata": {
        "trusted": true,
        "_uuid": "0aa54fa3e58bd9af503cce21b66c1ad23b6faa42"
      },
      "cell_type": "code",
      "source": "from sklearn.linear_model import LogisticRegression\nprint (\"[INFO] creating model...\")\nmodel = LogisticRegression(random_state=seed)\nmodel.fit(trainData, trainLabels)",
      "execution_count": null,
      "outputs": [
        {
          "output_type": "stream",
          "text": "[INFO] creating model...\n",
          "name": "stdout"
        }
      ]
    },
    {
      "metadata": {
        "trusted": true,
        "_uuid": "a762f3692b95227a657bf59039754ae0d0defde1"
      },
      "cell_type": "code",
      "source": "# use logistic regression as the model\nprint (\"[INFO] creating model...\")\nfrom sklearn.naive_bayes import GaussianNB\ngnb = GaussianNB()\n# model = SGDClassifier(random_state=seed)\ngnb.fit(trainData, trainLabels)",
      "execution_count": 9,
      "outputs": [
        {
          "output_type": "stream",
          "text": "[INFO] creating model...\n",
          "name": "stdout"
        },
        {
          "output_type": "execute_result",
          "execution_count": 9,
          "data": {
            "text/plain": "GaussianNB(priors=None, var_smoothing=1e-09)"
          },
          "metadata": {}
        }
      ]
    },
    {
      "metadata": {
        "trusted": true,
        "collapsed": true,
        "_uuid": "85fcb254e1c862129bfdff1240280d28e54dcae2"
      },
      "cell_type": "code",
      "source": "from sklearn.svm import LinearSVC\nSVC = LinearSVC(random_state=seed)\nSVC.fit(trainData, trainLabels)",
      "execution_count": null,
      "outputs": []
    },
    {
      "metadata": {
        "trusted": true,
        "_uuid": "f834928c50bc4f455dd9ae35d081120c5bf4a922"
      },
      "cell_type": "code",
      "source": "os.mkdir(\"output\")\nos.mkdir(\"output/IOdev\")\nos.mkdir(\"output/IOdev/inceptionv3/\")",
      "execution_count": 1,
      "outputs": [
        {
          "output_type": "error",
          "ename": "NameError",
          "evalue": "name 'os' is not defined",
          "traceback": [
            "\u001b[0;31m---------------------------------------------------------------------------\u001b[0m",
            "\u001b[0;31mNameError\u001b[0m                                 Traceback (most recent call last)",
            "\u001b[0;32m<ipython-input-1-ad3e9b501538>\u001b[0m in \u001b[0;36m<module>\u001b[0;34m()\u001b[0m\n\u001b[0;32m----> 1\u001b[0;31m \u001b[0mos\u001b[0m\u001b[0;34m.\u001b[0m\u001b[0mmkdir\u001b[0m\u001b[0;34m(\u001b[0m\u001b[0;34m\"output\"\u001b[0m\u001b[0;34m)\u001b[0m\u001b[0;34m\u001b[0m\u001b[0m\n\u001b[0m\u001b[1;32m      2\u001b[0m \u001b[0mos\u001b[0m\u001b[0;34m.\u001b[0m\u001b[0mmkdir\u001b[0m\u001b[0;34m(\u001b[0m\u001b[0;34m\"output/IOdev\"\u001b[0m\u001b[0;34m)\u001b[0m\u001b[0;34m\u001b[0m\u001b[0m\n\u001b[1;32m      3\u001b[0m \u001b[0mos\u001b[0m\u001b[0;34m.\u001b[0m\u001b[0mmkdir\u001b[0m\u001b[0;34m(\u001b[0m\u001b[0;34m\"output/IOdev/inceptionv3/\"\u001b[0m\u001b[0;34m)\u001b[0m\u001b[0;34m\u001b[0m\u001b[0m\n",
            "\u001b[0;31mNameError\u001b[0m: name 'os' is not defined"
          ]
        }
      ]
    },
    {
      "metadata": {
        "trusted": true,
        "_uuid": "9435aa005d9c2974c69c65c6c3a2bda25c338d9a"
      },
      "cell_type": "code",
      "source": "# use rank-1 and rank-5 predictions\nprint (\"[INFO] evaluating model...\")\nf = open(results, \"w\")\nrank_1 = 0\nrank_5 = 0",
      "execution_count": 28,
      "outputs": [
        {
          "output_type": "stream",
          "text": "[INFO] evaluating model...\n",
          "name": "stdout"
        }
      ]
    },
    {
      "metadata": {
        "trusted": true,
        "collapsed": true,
        "_uuid": "4ffedbb94530fbce6fbf9cd7664a3335a6f67acc"
      },
      "cell_type": "code",
      "source": "# evaluate the model of test data\npreds_gnb = gnb.predict(testData)\npreds_sgd = SGD.predict(testData)",
      "execution_count": 40,
      "outputs": []
    },
    {
      "metadata": {
        "trusted": true,
        "_uuid": "5d71b3dde66d40563694b1b69daa6dab03e32858",
        "collapsed": true
      },
      "cell_type": "code",
      "source": "# write the classification report to file\nf.write(\"{}\\n\".format(classification_report(testLabels, preds)))\nf.close()",
      "execution_count": 32,
      "outputs": []
    },
    {
      "metadata": {
        "trusted": true,
        "_uuid": "08fe60a344b2817c6cde554c1e35f32f3f9b18a4"
      },
      "cell_type": "code",
      "source": "print(testLabels,preds)",
      "execution_count": 41,
      "outputs": [
        {
          "output_type": "stream",
          "text": "[12  0  4 ...  6 10 13] [ 2 13  4 ...  6  6  6]\n",
          "name": "stdout"
        }
      ]
    },
    {
      "metadata": {
        "trusted": true,
        "_uuid": "0e3bf08ab8170cc1bd0159052dd840152080b2cf",
        "collapsed": true
      },
      "cell_type": "code",
      "source": "# dump classifier to file\nprint (\"[INFO] saving model...\")\npickle.dump(model, open(classifier_path, 'wb'))\n",
      "execution_count": null,
      "outputs": []
    },
    {
      "metadata": {
        "trusted": true,
        "_uuid": "59964973e4b8deb583bb817a5e5c4c76ea3ccce0"
      },
      "cell_type": "code",
      "source": "#  display the confusion matrix\nprint (\"[INFO] confusion matrix\")\n\n# get the list of training lables\nlabels = sorted(list(train_path))\n\n# plot the confusion matrix\ncm = confusion_matrix(testLabels, preds)\nsns.heatmap(cm,\n            annot=True,\n            cmap=\"Set2\")\nplt.show()",
      "execution_count": 42,
      "outputs": [
        {
          "output_type": "stream",
          "text": "[INFO] confusion matrix\n",
          "name": "stdout"
        },
        {
          "output_type": "display_data",
          "data": {
            "text/plain": "<matplotlib.figure.Figure at 0x7f46c715e860>",
            "image/png": "[encoded data removed]"
          },
          "metadata": {}
        }
      ]
    },
    {
      "metadata": {
        "trusted": true,
        "_uuid": "cb0a56ff3e39fcb28f2779e0b8172b2bae037c06"
      },
      "cell_type": "code",
      "source": "total=len(testLabels.tolist())\nprint(total)\ncounter=0\nfor i in range(len(testLabels)):\n    if testLabels[i]==preds[i]:\n        counter+=1\nprint(\"accuracy is \",((counter/total)*100))",
      "execution_count": 43,
      "outputs": [
        {
          "output_type": "stream",
          "text": "1333\naccuracy is  22.13053263315829\n",
          "name": "stdout"
        }
      ]
    },
    {
      "metadata": {
        "trusted": true,
        "collapsed": true,
        "_uuid": "bfeae077af4b481a59f04822bb8ff5fdbe1ab17e"
      },
      "cell_type": "code",
      "source": "",
      "execution_count": null,
      "outputs": []
    }
  ],
  "metadata": {
    "kernelspec": {
      "display_name": "Python 3",
      "language": "python",
      "name": "python3"
    },
    "language_info": {
      "name": "python",
      "version": "3.6.6",
      "mimetype": "text/x-python",
      "codemirror_mode": {
        "name": "ipython",
        "version": 3
      },
      "pygments_lexer": "ipython3",
      "nbconvert_exporter": "python",
      "file_extension": ".py"
    }
  },
  "nbformat": 4,
  "nbformat_minor": 1
}