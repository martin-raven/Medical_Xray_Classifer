{
  "cells": [
    {
      "metadata": {
        "_uuid": "8f2839f25d086af736a60e9eeb907d3b93b6e0e5",
        "_cell_guid": "b1076dfc-b9ad-4769-8c92-a6c4dae69d19",
        "trusted": true,
        "collapsed": true
      },
      "cell_type": "code",
      "source": "# organize imports\nfrom __future__ import print_function\n\nfrom sklearn.metrics import classification_report\nfrom sklearn.model_selection import train_test_split\nfrom sklearn.linear_model import LogisticRegression\nfrom sklearn.metrics import confusion_matrix\nimport numpy as np\nimport h5py\nimport os\nimport json\nimport pickle\nimport seaborn as sns\nimport matplotlib.pyplot as plt",
      "execution_count": null,
      "outputs": []
    },
    {
      "metadata": {
        "_cell_guid": "79c7e3d0-c299-4dcb-8224-4455121ee9b0",
        "collapsed": true,
        "_uuid": "d629ff2d2480ee46fbb7e2d37f6b5fab8052498a",
        "trusted": true
      },
      "cell_type": "code",
      "source": "config={\n  \"model\"           : \"inceptionv3\",\n  \"weights\"         : \"imagenet\",\n  \"include_top\"     : False,\n  \"features_path\"   : \"../input/output/IOdev/inceptionv3/features.h5\",\n  \"labels_path\"     : \"../input/output/IOdev/inceptionv3/labels.h5\",\n  \"results\"         : \"output/IOdev/inceptionv3/results.txt\",\n  \"classifier_path\" : \"output/IOdev/inceptionv3/classifier.pickle\",\n  \"model_path\"      : \"../input/output/IOdev/inceptionv3/model\",\n\n  \"test_size\"       : 0.15,\n  \"seed\"            : 9,\n  \"num_classes\"     : 14\n}",
      "execution_count": null,
      "outputs": []
    },
    {
      "metadata": {
        "trusted": true,
        "_uuid": "385e663657556a982897751b7d14c78afe072418",
        "collapsed": true
      },
      "cell_type": "code",
      "source": "# config variables\ntest_size     = config[\"test_size\"]\nseed      = config[\"seed\"]\nfeatures_path   = config[\"features_path\"]\nlabels_path   = config[\"labels_path\"]\nresults     = config[\"results\"]\nclassifier_path = config[\"classifier_path\"]\ntrain_path    = ['Effusion', 'Atelectasis', 'Edema', 'Hernia', 'Mass', 'Nodule', 'Fibrosis', 'Emphysema', 'Cardiomegaly', 'Consolidation', 'Infiltration', 'Pneumonia', 'Pneumothorax', 'Pleural_Thickening']\nnum_classes   = config[\"num_classes\"]\nclassifier_path = config[\"classifier_path\"]",
      "execution_count": null,
      "outputs": []
    },
    {
      "metadata": {
        "trusted": true,
        "_uuid": "53781602357a6d3a15161defde145dfde0c53f93",
        "collapsed": true
      },
      "cell_type": "code",
      "source": "# import features and labels\nh5f_data  = h5py.File(features_path, 'r')\nh5f_label = h5py.File(labels_path, 'r')\n\nfeatures_string = h5f_data['dataset_1']\nlabels_string   = h5f_label['dataset_1']\n\nfeatures = np.array(features_string)\nlabels   = np.array(labels_string)\n\nh5f_data.close()\nh5f_label.close()",
      "execution_count": null,
      "outputs": []
    },
    {
      "metadata": {
        "trusted": true,
        "_uuid": "aec7ac7d60782fca7d95c5dc5d60659e7d56f8c4",
        "collapsed": true
      },
      "cell_type": "code",
      "source": "# verify the shape of features and labels\nprint (\"[INFO] features shape: {}\".format(features.shape))\nprint (\"[INFO] labels shape: {}\".format(labels.shape))\n",
      "execution_count": null,
      "outputs": []
    },
    {
      "metadata": {
        "trusted": true,
        "_uuid": "15b1e3a92770051ecac861bd492e5eb0c5e69c95",
        "collapsed": true
      },
      "cell_type": "code",
      "source": "print (\"[INFO] training started...\")\n# split the training and testing data\n(trainData, testData, trainLabels, testLabels) = train_test_split(np.array(features),\n                                                                  np.array(labels),\n                                                                  test_size=test_size,\n                                                                  random_state=seed)\n\nprint (\"[INFO] splitted train and test data...\")\nprint (\"[INFO] train data  : {}\".format(trainData.shape))\nprint (\"[INFO] test data   : {}\".format(testData.shape))\nprint (\"[INFO] train labels: {}\".format(trainLabels.shape))\nprint (\"[INFO] test labels : {}\".format(testLabels.shape))",
      "execution_count": null,
      "outputs": []
    },
    {
      "metadata": {
        "trusted": true,
        "collapsed": true,
        "_uuid": "5f5f04e1c4870a1a9d8dcc1e262d8ab9b92d4ff7"
      },
      "cell_type": "code",
      "source": "del features_string,labels_string,features,labels",
      "execution_count": null,
      "outputs": []
    },
    {
      "metadata": {
        "trusted": true,
        "_uuid": "3c6ba88b245c9730bb89ec03f6ec22bf522b223b",
        "collapsed": true
      },
      "cell_type": "code",
      "source": "# use logistic regression as the model\nprint (\"[INFO] creating model...\")\nmodel = LogisticRegression(random_state=seed)\nmodel.fit(trainData, trainLabels)\n",
      "execution_count": null,
      "outputs": []
    },
    {
      "metadata": {
        "trusted": true,
        "_uuid": "f834928c50bc4f455dd9ae35d081120c5bf4a922",
        "collapsed": true
      },
      "cell_type": "code",
      "source": "os.mkdir(\"output\")\nos.mkdir(\"output/IOdev\")\nos.mkdir(\"output/IOdev/inceptionv3/\")",
      "execution_count": null,
      "outputs": []
    },
    {
      "metadata": {
        "trusted": true,
        "_uuid": "9435aa005d9c2974c69c65c6c3a2bda25c338d9a",
        "collapsed": true
      },
      "cell_type": "code",
      "source": "# use rank-1 and rank-5 predictions\nprint (\"[INFO] evaluating model...\")\nf = open(results, \"w\")\nrank_1 = 0\nrank_5 = 0",
      "execution_count": null,
      "outputs": []
    },
    {
      "metadata": {
        "trusted": true,
        "collapsed": true,
        "_uuid": "4ffedbb94530fbce6fbf9cd7664a3335a6f67acc"
      },
      "cell_type": "code",
      "source": "# evaluate the model of test data\npreds = model.predict(testData)\n\n",
      "execution_count": null,
      "outputs": []
    },
    {
      "metadata": {
        "trusted": true,
        "_uuid": "5d71b3dde66d40563694b1b69daa6dab03e32858",
        "collapsed": true
      },
      "cell_type": "code",
      "source": "# write the classification report to file\nf.write(\"{}\\n\".format(classification_report(testLabels, preds)))\nf.close()",
      "execution_count": null,
      "outputs": []
    },
    {
      "metadata": {
        "trusted": true,
        "_uuid": "0e3bf08ab8170cc1bd0159052dd840152080b2cf",
        "collapsed": true
      },
      "cell_type": "code",
      "source": "# dump classifier to file\nprint (\"[INFO] saving model...\")\npickle.dump(model, open(classifier_path, 'wb'))\n",
      "execution_count": null,
      "outputs": []
    },
    {
      "metadata": {
        "trusted": true,
        "_uuid": "59964973e4b8deb583bb817a5e5c4c76ea3ccce0",
        "collapsed": true
      },
      "cell_type": "code",
      "source": "#  display the confusion matrix\nprint (\"[INFO] confusion matrix\")\n\n# get the list of training lables\nlabels = sorted(list(train_path))\n\n# plot the confusion matrix\ncm = confusion_matrix(testLabels, preds)\nsns.heatmap(cm,\n            annot=True,\n            cmap=\"Set2\")\nplt.show()",
      "execution_count": null,
      "outputs": []
    },
    {
      "metadata": {
        "trusted": true,
        "collapsed": true,
        "_uuid": "cb0a56ff3e39fcb28f2779e0b8172b2bae037c06"
      },
      "cell_type": "code",
      "source": "",
      "execution_count": null,
      "outputs": []
    }
  ],
  "metadata": {
    "kernelspec": {
      "display_name": "Python 3",
      "language": "python",
      "name": "python3"
    },
    "language_info": {
      "name": "python",
      "version": "3.6.4",
      "mimetype": "text/x-python",
      "codemirror_mode": {
        "name": "ipython",
        "version": 3
      },
      "pygments_lexer": "ipython3",
      "nbconvert_exporter": "python",
      "file_extension": ".py"
    }
  },
  "nbformat": 4,
  "nbformat_minor": 1
}